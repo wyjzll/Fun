{
 "cells": [
  {
   "cell_type": "markdown",
   "id": "6a1528a2-5a0d-4384-a42e-b7d874a3b40d",
   "metadata": {},
   "source": [
    "About input sizes\n",
    "To ensure correct semantic concatenations, it is advised to use input sizes that return even spatial dimensions in every block but the last in the encoder. For example: An input size of 120² gives intermediate output shapes of [60², 30², 15²] in the encoder path for a U-Net with depth=4 . A U-Net with depth=5 with the same input size is not recommended, as a maxpooling operation on odd spatial dimensions (e.g. on a 15² input) should be avoided.\n",
    "\n",
    "To make our lives easier, we can numerically compute the maximum network depth for a given input dimension with a simple function:"
   ]
  },
  {
   "cell_type": "code",
   "execution_count": 1,
   "id": "5973dabc-8172-4b84-afac-cb142a33d5be",
   "metadata": {},
   "outputs": [
    {
     "name": "stdout",
     "output_type": "stream",
     "text": [
      "Level 1: 960.0\n",
      "Level 2: 480.0\n",
      "Level 3: 240.0\n",
      "Level 4: 120.0\n",
      "Level 5: 60.0\n",
      "Level 6: 30.0\n",
      "Level 7: 15.0\n",
      "Max-level: 7\n"
     ]
    }
   ],
   "source": [
    "shape = 1920\n",
    "\n",
    "\n",
    "def compute_max_depth(shape, max_depth=10, print_out=True):\n",
    "    shapes = []\n",
    "    shapes.append(shape)\n",
    "    for level in range(1, max_depth):\n",
    "        if shape % 2 ** level == 0 and shape / 2 ** level > 1:\n",
    "            shapes.append(shape / 2 ** level)\n",
    "            if print_out:\n",
    "                print(f'Level {level}: {shape / 2 ** level}')\n",
    "        else:\n",
    "            if print_out:\n",
    "                print(f'Max-level: {level - 1}')\n",
    "            break\n",
    "\n",
    "    return shapes\n",
    "\n",
    "\n",
    "out = compute_max_depth(shape, print_out=True, max_depth=10)"
   ]
  },
  {
   "cell_type": "markdown",
   "id": "811e6ec7-82ce-4ca4-996d-347e6240fb81",
   "metadata": {},
   "source": [
    "which tells us that that we can design a U-Net as deep as this without having to worry about semantic mismatches. Conversely, we can also numerically determine the possible input shapes dimensions for a given depth:"
   ]
  },
  {
   "cell_type": "code",
   "execution_count": 14,
   "id": "757dc28f-4b2e-4fc8-bd62-7890d249bdef",
   "metadata": {
    "collapsed": true,
    "jupyter": {
     "outputs_hidden": true
    },
    "tags": []
   },
   "outputs": [
    {
     "name": "stdout",
     "output_type": "stream",
     "text": [
      "{32: [32, 16.0, 8.0, 4.0, 2.0], 48: [48, 24.0, 12.0, 6.0, 3.0], 64: [64, 32.0, 16.0, 8.0, 4.0], 80: [80, 40.0, 20.0, 10.0, 5.0], 96: [96, 48.0, 24.0, 12.0, 6.0], 112: [112, 56.0, 28.0, 14.0, 7.0], 128: [128, 64.0, 32.0, 16.0, 8.0], 144: [144, 72.0, 36.0, 18.0, 9.0], 160: [160, 80.0, 40.0, 20.0, 10.0], 176: [176, 88.0, 44.0, 22.0, 11.0], 192: [192, 96.0, 48.0, 24.0, 12.0], 208: [208, 104.0, 52.0, 26.0, 13.0], 224: [224, 112.0, 56.0, 28.0, 14.0], 240: [240, 120.0, 60.0, 30.0, 15.0], 256: [256, 128.0, 64.0, 32.0, 16.0], 272: [272, 136.0, 68.0, 34.0, 17.0], 288: [288, 144.0, 72.0, 36.0, 18.0], 304: [304, 152.0, 76.0, 38.0, 19.0], 320: [320, 160.0, 80.0, 40.0, 20.0], 336: [336, 168.0, 84.0, 42.0, 21.0], 352: [352, 176.0, 88.0, 44.0, 22.0], 368: [368, 184.0, 92.0, 46.0, 23.0], 384: [384, 192.0, 96.0, 48.0, 24.0], 400: [400, 200.0, 100.0, 50.0, 25.0], 416: [416, 208.0, 104.0, 52.0, 26.0], 432: [432, 216.0, 108.0, 54.0, 27.0], 448: [448, 224.0, 112.0, 56.0, 28.0], 464: [464, 232.0, 116.0, 58.0, 29.0], 480: [480, 240.0, 120.0, 60.0, 30.0], 496: [496, 248.0, 124.0, 62.0, 31.0], 512: [512, 256.0, 128.0, 64.0, 32.0], 528: [528, 264.0, 132.0, 66.0, 33.0], 544: [544, 272.0, 136.0, 68.0, 34.0], 560: [560, 280.0, 140.0, 70.0, 35.0], 576: [576, 288.0, 144.0, 72.0, 36.0], 592: [592, 296.0, 148.0, 74.0, 37.0], 608: [608, 304.0, 152.0, 76.0, 38.0], 624: [624, 312.0, 156.0, 78.0, 39.0], 640: [640, 320.0, 160.0, 80.0, 40.0], 656: [656, 328.0, 164.0, 82.0, 41.0], 672: [672, 336.0, 168.0, 84.0, 42.0], 688: [688, 344.0, 172.0, 86.0, 43.0], 704: [704, 352.0, 176.0, 88.0, 44.0], 720: [720, 360.0, 180.0, 90.0, 45.0], 736: [736, 368.0, 184.0, 92.0, 46.0], 752: [752, 376.0, 188.0, 94.0, 47.0], 768: [768, 384.0, 192.0, 96.0, 48.0], 784: [784, 392.0, 196.0, 98.0, 49.0], 800: [800, 400.0, 200.0, 100.0, 50.0], 816: [816, 408.0, 204.0, 102.0, 51.0], 832: [832, 416.0, 208.0, 104.0, 52.0], 848: [848, 424.0, 212.0, 106.0, 53.0], 864: [864, 432.0, 216.0, 108.0, 54.0], 880: [880, 440.0, 220.0, 110.0, 55.0], 896: [896, 448.0, 224.0, 112.0, 56.0], 912: [912, 456.0, 228.0, 114.0, 57.0], 928: [928, 464.0, 232.0, 116.0, 58.0], 944: [944, 472.0, 236.0, 118.0, 59.0], 960: [960, 480.0, 240.0, 120.0, 60.0], 976: [976, 488.0, 244.0, 122.0, 61.0], 992: [992, 496.0, 248.0, 124.0, 62.0], 1008: [1008, 504.0, 252.0, 126.0, 63.0], 1024: [1024, 512.0, 256.0, 128.0, 64.0]}\n"
     ]
    }
   ],
   "source": [
    "low = 10\n",
    "high = 1024\n",
    "depth = 5\n",
    "\n",
    "\n",
    "def compute_possible_shapes(low, high, depth,print_out=True):\n",
    "    possible_shapes = {}\n",
    "    for shape in range(low, high + 1):\n",
    "        shapes = compute_max_depth(shape,\n",
    "                                   max_depth=depth,\n",
    "                                   print_out=False)\n",
    "        if len(shapes) == depth:\n",
    "            possible_shapes[shape] = shapes\n",
    "    # print(possible_shapes)\n",
    "    return possible_shapes\n",
    "possible_shapes = compute_possible_shapes(low, high, depth)\n",
    "print(possible_shapes)\n"
   ]
  },
  {
   "cell_type": "code",
   "execution_count": 15,
   "id": "561f70ad-06f9-4fd7-9476-aecf7b6013bc",
   "metadata": {},
   "outputs": [
    {
     "ename": "NameError",
     "evalue": "name 'max_depth' is not defined",
     "output_type": "error",
     "traceback": [
      "\u001b[0;31m---------------------------------------------------------------------------\u001b[0m",
      "\u001b[0;31mNameError\u001b[0m                                 Traceback (most recent call last)",
      "Cell \u001b[0;32mIn[15], line 1\u001b[0m\n\u001b[0;32m----> 1\u001b[0m \u001b[43mmax_depth\u001b[49m\n",
      "\u001b[0;31mNameError\u001b[0m: name 'max_depth' is not defined"
     ]
    }
   ],
   "source": [
    "max_depth"
   ]
  },
  {
   "cell_type": "markdown",
   "id": "c38c341f-e511-48ef-9373-77d351b9c8de",
   "metadata": {},
   "source": []
  },
  {
   "cell_type": "markdown",
   "id": "b2199c66-797a-4eb5-8bb3-c6fdd9932368",
   "metadata": {},
   "source": [
    "which tells us that we can have 3 different input shapes with such a level 8 U-Net architecture. But I dare to say that such a network with this input size is probably not useful in practice."
   ]
  }
 ],
 "metadata": {
  "kernelspec": {
   "display_name": "Python 3 (ipykernel)",
   "language": "python",
   "name": "python3"
  },
  "language_info": {
   "codemirror_mode": {
    "name": "ipython",
    "version": 3
   },
   "file_extension": ".py",
   "mimetype": "text/x-python",
   "name": "python",
   "nbconvert_exporter": "python",
   "pygments_lexer": "ipython3",
   "version": "3.9.15"
  }
 },
 "nbformat": 4,
 "nbformat_minor": 5
}
