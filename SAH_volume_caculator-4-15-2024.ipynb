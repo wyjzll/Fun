{
 "cells": [
  {
   "cell_type": "code",
   "execution_count": 1,
   "id": "19d239fb-63a3-4912-9a11-194bcfec67b0",
   "metadata": {},
   "outputs": [],
   "source": [
    "import SimpleITK as sitk\n",
    "import nibabel as nib\n",
    "import numpy as np\n",
    "import matplotlib.pyplot as plt\n",
    "from PIL import Image\n",
    "import os\n",
    "import pydicom\n",
    "from nibabel import orientations as orx"
   ]
  },
  {
   "cell_type": "code",
   "execution_count": 10,
   "id": "4c3f949d-1a32-462c-81df-30582f054896",
   "metadata": {
    "tags": []
   },
   "outputs": [
    {
     "name": "stderr",
     "output_type": "stream",
     "text": [
      "HDF5-DIAG: Error detected in HDF5 (1.10.4) thread 0:\n",
      "  #000: /tmp/SimpleITK-build/ITK/Modules/ThirdParty/HDF5/src/itkhdf5/src/H5F.c line 370 in itk_H5Fis_hdf5(): unable open file\n",
      "    major: File accessibilty\n",
      "    minor: Not an HDF5 file\n",
      "  #001: /tmp/SimpleITK-build/ITK/Modules/ThirdParty/HDF5/src/itkhdf5/src/H5Fint.c line 806 in itk_H5F__is_hdf5(): unable to locate file signature\n",
      "    major: File accessibilty\n",
      "    minor: Not an HDF5 file\n",
      "  #002: /tmp/SimpleITK-build/ITK/Modules/ThirdParty/HDF5/src/itkhdf5/src/H5FDint.c line 126 in itk_H5FD_locate_signature(): unable to read file signature\n",
      "    major: Low-level I/O\n",
      "    minor: Unable to initialize object\n",
      "  #003: /tmp/SimpleITK-build/ITK/Modules/ThirdParty/HDF5/src/itkhdf5/src/H5FDint.c line 205 in itk_H5FD_read(): driver read request failed\n",
      "    major: Virtual File Layer\n",
      "    minor: Read failed\n",
      "  #004: /tmp/SimpleITK-build/ITK/Modules/ThirdParty/HDF5/src/itkhdf5/src/H5FDsec2.c line 716 in H5FD_sec2_read(): file read failed: time = Wed Jun 12 23:39:24 2024\n",
      ", filename = '/research/Data/22-001037_SAH_Dataset/14-381-730-Fetch-2024-05-16/CT_14381730_0-120_result', file descriptor = 59, errno = 21, error message = 'Is a directory', buf = 0x7ffc14f990f8, total read size = 8, bytes this sub-read = 8, bytes actually read = 18446744073709551615, offset = 0\n",
      "    major: Low-level I/O\n",
      "    minor: Read failed\n"
     ]
    },
    {
     "ename": "RuntimeError",
     "evalue": "Exception thrown in SimpleITK ImageFileReader_Execute: /tmp/SimpleITK/Code/IO/src/sitkImageReaderBase.cxx:105:\nsitk::ERROR: Unable to determine ImageIO reader for \"/research/Data/22-001037_SAH_Dataset/14-381-730-Fetch-2024-05-16/CT_14381730_0-120_result\"",
     "output_type": "error",
     "traceback": [
      "\u001b[0;31m---------------------------------------------------------------------------\u001b[0m",
      "\u001b[0;31mRuntimeError\u001b[0m                              Traceback (most recent call last)",
      "\u001b[0;32m/tmp/ipykernel_359087/4205167335.py\u001b[0m in \u001b[0;36m<cell line: 1>\u001b[0;34m()\u001b[0m\n\u001b[0;32m----> 1\u001b[0;31m \u001b[0mim\u001b[0m \u001b[0;34m=\u001b[0m \u001b[0msitk\u001b[0m\u001b[0;34m.\u001b[0m\u001b[0mReadImage\u001b[0m\u001b[0;34m(\u001b[0m\u001b[0;34m'/research/Data/22-001037_SAH_Dataset/14-381-730-Fetch-2024-05-16/CT_14381730_0-120_result'\u001b[0m\u001b[0;34m)\u001b[0m\u001b[0;34m\u001b[0m\u001b[0;34m\u001b[0m\u001b[0m\n\u001b[0m",
      "\u001b[0;32m/research/projects/David/miniconda3/envs/nn1/lib/python3.9/site-packages/SimpleITK/extra.py\u001b[0m in \u001b[0;36mReadImage\u001b[0;34m(fileName, outputPixelType, imageIO)\u001b[0m\n\u001b[1;32m    344\u001b[0m     \u001b[0mreader\u001b[0m\u001b[0;34m.\u001b[0m\u001b[0mSetImageIO\u001b[0m\u001b[0;34m(\u001b[0m\u001b[0mimageIO\u001b[0m\u001b[0;34m)\u001b[0m\u001b[0;34m\u001b[0m\u001b[0;34m\u001b[0m\u001b[0m\n\u001b[1;32m    345\u001b[0m     \u001b[0mreader\u001b[0m\u001b[0;34m.\u001b[0m\u001b[0mSetOutputPixelType\u001b[0m\u001b[0;34m(\u001b[0m\u001b[0moutputPixelType\u001b[0m\u001b[0;34m)\u001b[0m\u001b[0;34m\u001b[0m\u001b[0;34m\u001b[0m\u001b[0m\n\u001b[0;32m--> 346\u001b[0;31m     \u001b[0;32mreturn\u001b[0m \u001b[0mreader\u001b[0m\u001b[0;34m.\u001b[0m\u001b[0mExecute\u001b[0m\u001b[0;34m(\u001b[0m\u001b[0;34m)\u001b[0m\u001b[0;34m\u001b[0m\u001b[0;34m\u001b[0m\u001b[0m\n\u001b[0m\u001b[1;32m    347\u001b[0m \u001b[0;34m\u001b[0m\u001b[0m\n\u001b[1;32m    348\u001b[0m \u001b[0;34m\u001b[0m\u001b[0m\n",
      "\u001b[0;32m/research/projects/David/miniconda3/envs/nn1/lib/python3.9/site-packages/SimpleITK/SimpleITK.py\u001b[0m in \u001b[0;36mExecute\u001b[0;34m(self)\u001b[0m\n\u001b[1;32m   5777\u001b[0m     \u001b[0;32mdef\u001b[0m \u001b[0mExecute\u001b[0m\u001b[0;34m(\u001b[0m\u001b[0mself\u001b[0m\u001b[0;34m)\u001b[0m\u001b[0;34m:\u001b[0m\u001b[0;34m\u001b[0m\u001b[0;34m\u001b[0m\u001b[0m\n\u001b[1;32m   5778\u001b[0m         \u001b[0;34mr\"\"\"Execute(ImageFileReader self) -> Image\"\"\"\u001b[0m\u001b[0;34m\u001b[0m\u001b[0;34m\u001b[0m\u001b[0m\n\u001b[0;32m-> 5779\u001b[0;31m         \u001b[0;32mreturn\u001b[0m \u001b[0m_SimpleITK\u001b[0m\u001b[0;34m.\u001b[0m\u001b[0mImageFileReader_Execute\u001b[0m\u001b[0;34m(\u001b[0m\u001b[0mself\u001b[0m\u001b[0;34m)\u001b[0m\u001b[0;34m\u001b[0m\u001b[0;34m\u001b[0m\u001b[0m\n\u001b[0m\u001b[1;32m   5780\u001b[0m \u001b[0;34m\u001b[0m\u001b[0m\n\u001b[1;32m   5781\u001b[0m     \u001b[0;32mdef\u001b[0m \u001b[0mReadImageInformation\u001b[0m\u001b[0;34m(\u001b[0m\u001b[0mself\u001b[0m\u001b[0;34m)\u001b[0m\u001b[0;34m:\u001b[0m\u001b[0;34m\u001b[0m\u001b[0;34m\u001b[0m\u001b[0m\n",
      "\u001b[0;31mRuntimeError\u001b[0m: Exception thrown in SimpleITK ImageFileReader_Execute: /tmp/SimpleITK/Code/IO/src/sitkImageReaderBase.cxx:105:\nsitk::ERROR: Unable to determine ImageIO reader for \"/research/Data/22-001037_SAH_Dataset/14-381-730-Fetch-2024-05-16/CT_14381730_0-120_result\""
     ]
    }
   ],
   "source": [
    "im = sitk.ReadImage('/research/Data/22-001037_SAH_Dataset/14-381-730-Fetch-2024-05-16/CT_14381730_0-120_result')"
   ]
  },
  {
   "cell_type": "code",
   "execution_count": 11,
   "id": "d1fdfbcf-cee1-46ea-adad-92c1cf938f04",
   "metadata": {},
   "outputs": [],
   "source": [
    "# get voxel spacing (for 3-D image)\n",
    "spacing = im.GetSpacing()\n",
    "spacing_x = spacing[0]\n",
    "spacing_y = spacing[1]\n",
    "spacing_z = spacing[2]\n",
    "# image_nda = sitk.GetArrayFromImage(im)\n",
    "image_nda = sitk.GetArrayFromImage(im)"
   ]
  },
  {
   "cell_type": "code",
   "execution_count": 12,
   "id": "86fcfe05-c787-4d02-9584-428f2f0f6b5c",
   "metadata": {},
   "outputs": [
    {
     "data": {
      "text/plain": [
       "99926"
      ]
     },
     "execution_count": 12,
     "metadata": {},
     "output_type": "execute_result"
    }
   ],
   "source": [
    "label_1=np.sum(image_nda==1)\n",
    "label_1"
   ]
  },
  {
   "cell_type": "code",
   "execution_count": 13,
   "id": "2b1885f6-2d49-4f00-9fd9-fa149e8372b9",
   "metadata": {},
   "outputs": [
    {
     "data": {
      "text/plain": [
       "99926"
      ]
     },
     "execution_count": 13,
     "metadata": {},
     "output_type": "execute_result"
    }
   ],
   "source": [
    "label_2=np.sum(image_nda==2)\n",
    "label_2+label_1"
   ]
  },
  {
   "cell_type": "code",
   "execution_count": 14,
   "id": "2d16cb1e-f690-4a70-9488-8a7fcd47a553",
   "metadata": {},
   "outputs": [],
   "source": [
    "voxel_volume = spacing_x * spacing_y * spacing_z\n",
    "imageSegm_nda_NonZero = image_nda.nonzero()\n"
   ]
  },
  {
   "cell_type": "code",
   "execution_count": 15,
   "id": "5052445a-3956-4bf6-9f42-fe208d1b29df",
   "metadata": {},
   "outputs": [
    {
     "data": {
      "text/plain": [
       "(array([ 73,  73,  73, ..., 197, 197, 197]),\n",
       " array([293, 293, 293, ..., 248, 248, 249]),\n",
       " array([261, 262, 263, ..., 184, 185, 185]))"
      ]
     },
     "execution_count": 15,
     "metadata": {},
     "output_type": "execute_result"
    }
   ],
   "source": [
    "imageSegm_nda_NonZero"
   ]
  },
  {
   "cell_type": "code",
   "execution_count": 16,
   "id": "23ad649f-8b5b-4a8b-8705-53e833dca4c8",
   "metadata": {},
   "outputs": [
    {
     "data": {
      "text/plain": [
       "99926"
      ]
     },
     "execution_count": 16,
     "metadata": {},
     "output_type": "execute_result"
    }
   ],
   "source": [
    "num_voxels = len(list(zip(imageSegm_nda_NonZero[0],imageSegm_nda_NonZero[1], imageSegm_nda_NonZero[2])))\n",
    "num_voxels"
   ]
  },
  {
   "cell_type": "code",
   "execution_count": 2,
   "id": "e55c36c5-c927-4aef-9a7c-113ddd66e273",
   "metadata": {},
   "outputs": [],
   "source": [
    "inputDir = '/research/Data/22-001037_SAH_Dataset/14-381-730-Fetch-2024-06-19/nifti_12336770/CT_14381730_0-120_no_skull_SAH_result'"
   ]
  },
  {
   "cell_type": "code",
   "execution_count": 3,
   "id": "f9160bfa-2a25-4c8b-9c21-d9579b4f7d3d",
   "metadata": {
    "tags": []
   },
   "outputs": [
    {
     "name": "stdout",
     "output_type": "stream",
     "text": [
      "12336770_53453954_CT_HEAD_NECK_ANGIOGRAM_WITH_IV_CONTRAST-2024-06-17.nii.gz: voxel_volume=0.2384185791015625, num_voxels=29553,volume=7.045984268188477\n",
      "12336770_IIMS76000164_CT_BRAIN_W_O_CONTRAST-2024-06-14.nii.gz: voxel_volume=0.5960458656774392, num_voxels=30108,volume=17.94574892381634\n"
     ]
    }
   ],
   "source": [
    "# read image\n",
    "mean_volume={}\n",
    "for roots, dirs, files in os.walk(inputDir):\n",
    "    # for each in tqdm(os.listdir(path0)): \n",
    "    for file in files:\n",
    "        if file.endswith(\".nii.gz\"):\n",
    "            volume_object_ml=0\n",
    "            im = sitk.ReadImage(os.path.join(inputDir, file))\n",
    "\n",
    "    # get voxel spacing (for 3-D image)\n",
    "            spacing = im.GetSpacing()\n",
    "            spacing_x = spacing[0]\n",
    "            spacing_y = spacing[1]\n",
    "            spacing_z = spacing[2]\n",
    "            # image_nda = sitk.GetArrayFromImage(im)\n",
    "    # determine volume of a single voxel\n",
    "            voxel_volume = spacing_x * spacing_y * spacing_z\n",
    "            image_nda = sitk.GetArrayFromImage(im)\n",
    "            imageSegm_nda_NonZero = image_nda.nonzero()       \n",
    "            num_voxels = len(list(zip(imageSegm_nda_NonZero[0],imageSegm_nda_NonZero[1], imageSegm_nda_NonZero[2])))\n",
    "            volume_object_ml = (num_voxels * spacing_x * spacing_y * spacing_z) / 1000\n",
    "            # print(f'the volume of {file} is {volume_object_ml}')\n",
    "            mean_volume[file]=volume_object_ml\n",
    "            print(f\"{file}: voxel_volume={voxel_volume}, num_voxels={num_voxels},volume={volume_object_ml}\")\n",
    "            len(mean_volume)\n",
    "        else:\n",
    "            continue\n",
    "\n"
   ]
  },
  {
   "cell_type": "code",
   "execution_count": 19,
   "id": "d178abf7-2b3d-4d7b-a59a-c3ae4c3e047d",
   "metadata": {},
   "outputs": [
    {
     "data": {
      "text/plain": [
       "{'Head_0_75_Hr40_2_3_5_13_120.nii.gz': 14.861430667321496}"
      ]
     },
     "execution_count": 19,
     "metadata": {},
     "output_type": "execute_result"
    }
   ],
   "source": [
    "mean_volume=dict(sorted(mean_volume.items()))\n",
    "mean_volume"
   ]
  },
  {
   "cell_type": "code",
   "execution_count": 20,
   "id": "0971015b-8b65-406e-9e31-5d0f68d07505",
   "metadata": {},
   "outputs": [],
   "source": [
    "import pandas as pd\n",
    "mean_volume_csv = pd.DataFrame(mean_volume.items(), columns=['filename','volume'])\n",
    "# print(mean_volume_csv)\n",
    "# pd.DataFrame(data=mean_volume_csv).to_csv('/research/Data/22-001037_SAH_Dataset/14380450/Nifty_0-120_no_skull_SAH_result.csv', header=True)\n"
   ]
  },
  {
   "cell_type": "code",
   "execution_count": 34,
   "id": "801b11bf-4e54-4707-85c4-e38feb50793c",
   "metadata": {},
   "outputs": [],
   "source": [
    "mean_volume = {'4-11_day1': 10.742425918579102,\n",
    " '4-12_day2': 9.06515121459961,\n",
    " '4-13_day3': 5.562782287597656,\n",
    " '4-14_day4': 5.339622497558594,\n",
    " '4-15_day5': 1.972198486328125,\n",
    " '4-17_day7': 1.3570785522460938}"
   ]
  },
  {
   "cell_type": "code",
   "execution_count": 21,
   "id": "5b32b1f0-1641-4f73-ac62-02112358925f",
   "metadata": {},
   "outputs": [],
   "source": [
    "mean_volume = {'Day1': 10.742425918579102,\n",
    " 'Day2': 9.06515121459961,\n",
    " 'Day3': 5.562782287597656,\n",
    " 'Day4': 5.339622497558594,\n",
    " 'Day5': 1.972198486328125,\n",
    " 'Day7': 1.3570785522460938}"
   ]
  },
  {
   "cell_type": "code",
   "execution_count": 35,
   "id": "9f04bbff-27fa-456e-9b7d-969a1ea1e792",
   "metadata": {},
   "outputs": [
    {
     "data": {
      "image/png": "[encoded data removed]",
      "text/plain": [
       "<Figure size 720x360 with 1 Axes>"
      ]
     },
     "metadata": {
      "needs_background": "light"
     },
     "output_type": "display_data"
    },
    {
     "data": {
      "text/plain": [
       "<Figure size 432x288 with 0 Axes>"
      ]
     },
     "metadata": {},
     "output_type": "display_data"
    }
   ],
   "source": [
    "values = list(mean_volume.values())\n",
    "days = list(mean_volume.keys())\n",
    "# Creating the plot\n",
    "plt.figure(figsize=(10, 5))  # Optional: specifies the size of the figure\n",
    "plt.plot(days, values, marker='o',color='red')  # Line plot with markers\n",
    "plt.title('The Remaining Volume of Intracranial Hematoma after Treatment')  # Title of the plot\n",
    "plt.xlabel('Days After Admitted ')  # X-axis label\n",
    "plt.ylabel('Volume (ml)')  # Y-axis label\n",
    "plt.grid(True)  # Optional: adds a grid for easier readability\n",
    "\n",
    "# Show the plot\n",
    "plt.show()\n",
    "\n",
    "# Save the Figure to a file\n",
    "plt.savefig('/research/Data/22-001037_SAH_Dataset/14380450/Nifty_0-120_no_skull_SAH_result.pdf')"
   ]
  },
  {
   "cell_type": "code",
   "execution_count": 30,
   "id": "28290a4c-0349-402c-822f-f967f46d140c",
   "metadata": {},
   "outputs": [
    {
     "data": {
      "image/png": "[encoded data removed]",
      "text/plain": [
       "<Figure size 720x360 with 1 Axes>"
      ]
     },
     "metadata": {
      "needs_background": "light"
     },
     "output_type": "display_data"
    }
   ],
   "source": [
    "values = list(mean_volume.values())\n",
    "days = list(mean_volume.keys())\n",
    "# Creating the plot\n",
    "plt.figure(figsize=(10, 5))  # Optional: specifies the size of the figure\n",
    "plt.plot(days, values, marker='o',color='red')  # Line plot with markers\n",
    "plt.title('The Remaining Volume of Intracranial Hematoma after Treatment',fontsize=15)  # Title of the plot\n",
    "plt.xlabel('Days After Admitted',fontsize=15)  # X-axis label\n",
    "plt.ylabel('Volume (ml)',fontsize=15)  # Y-axis label\n",
    "plt.grid(True)  # Optional: adds a grid for easier readability\n",
    "# Save the Figure to a file\n",
    "\n",
    "plt.savefig('/research/Data/22-001037_SAH_Dataset/14380450/Nifty_0-120_no_skull_SAH_result.pdf',format=\"pdf\", bbox_inches=\"tight\")\n",
    "# Show the plot\n",
    "plt.show()\n",
    "\n"
   ]
  },
  {
   "cell_type": "code",
   "execution_count": null,
   "id": "874a1666-6a8a-4f15-83ad-e918403c29a7",
   "metadata": {},
   "outputs": [],
   "source": []
  }
 ],
 "metadata": {
  "kernelspec": {
   "display_name": "Python 3 (ipykernel)",
   "language": "python",
   "name": "python3"
  },
  "language_info": {
   "codemirror_mode": {
    "name": "ipython",
    "version": 3
   },
   "file_extension": ".py",
   "mimetype": "text/x-python",
   "name": "python",
   "nbconvert_exporter": "python",
   "pygments_lexer": "ipython3",
   "version": "3.9.12"
  }
 },
 "nbformat": 4,
 "nbformat_minor": 5
}
